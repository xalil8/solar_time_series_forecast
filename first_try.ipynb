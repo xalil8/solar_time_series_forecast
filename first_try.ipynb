{
 "cells": [
  {
   "cell_type": "code",
   "execution_count": 1,
   "metadata": {},
   "outputs": [],
   "source": [
    "import numpy as np\n",
    "import pandas as pd \n",
    "#import matplotlib.pyplot as plt\n",
    "#import seaborn as sns\n",
    "pd.set_option('max_columns', 50)\n",
    "####model libraries ####################\n",
    "from sklearn.linear_model import Ridge, Lasso,SGDRegressor,LinearRegression\n",
    "from xgboost import XGBRegressor\n",
    "from sklearn.neighbors import KNeighborsRegressor\n",
    "from sklearn.ensemble import GradientBoostingRegressor,AdaBoostRegressor,RandomForestRegressor, ExtraTreesRegressor\n",
    "from sklearn.tree import ExtraTreeRegressor,DecisionTreeRegressor\n",
    "from sklearn.neural_network import MLPRegressor\n",
    "#########################################\n",
    "from sklearn.cross_decomposition import PLSRegression\n",
    "\n",
    "from sklearn.metrics import mean_squared_error, mean_absolute_error,make_scorer,r2_score,mean_absolute_percentage_error,explained_variance_score\n",
    "from sklearn.preprocessing import MinMaxScaler\n",
    "\n",
    "#### visulization #####\n",
    "import plotly.graph_objects as go\n"
   ]
  },
  {
   "cell_type": "markdown",
   "metadata": {},
   "source": [
    "#reading data"
   ]
  },
  {
   "cell_type": "code",
   "execution_count": 2,
   "metadata": {},
   "outputs": [],
   "source": [
    "whole_data = pd.read_csv('C:/Users/halil/Desktop/forecast_co2/datasets/ethylene_CO.txt', delimiter='\\s+',names=[\n",
    "   \"Time\",\n",
    "   \"CO2_con\",\n",
    "   \"Ethy_con\",\n",
    "   \"sensor1\",\n",
    "   \"sensor2\",\n",
    "   \"sensor3\",\n",
    "   \"sensor4\",\n",
    "   \"sensor5\",\n",
    "   \"sensor6\",\n",
    "   \"sensor7\",\n",
    "   \"sensor8\",\n",
    "   \"sensor9\",\n",
    "   \"sensor10\",\n",
    "   \"sensor11\",\n",
    "   \"sensor12\",\n",
    "   \"sensor13\",\n",
    "   \"sensor14\",\n",
    "   \"sensor15\",\n",
    "   \"sensor16\",])"
   ]
  },
  {
   "cell_type": "code",
   "execution_count": 3,
   "metadata": {},
   "outputs": [],
   "source": [
    "#normalization in range (-1,1)\n",
    "def normalize(df,column_list):\n",
    "    for col in column_list:\n",
    "        feature_range = (0,1)\n",
    "        min_max_scaler = MinMaxScaler(feature_range=feature_range)\n",
    "\n",
    "        df[col] = min_max_scaler.fit_transform(df[col].values.reshape(-1,1))\n",
    "\n",
    "    return df"
   ]
  },
  {
   "cell_type": "code",
   "execution_count": 4,
   "metadata": {},
   "outputs": [],
   "source": [
    "#for co2 \n",
    "def make_data(dataframe):\n",
    "    train = dataframe[:int(len(dataframe)*0.8)]\n",
    "    test = dataframe[int(len(dataframe)*0.8):]\n",
    "\n",
    "    x_train = train.copy()\n",
    "    x_test = test.copy()\n",
    "\n",
    "    y_train = x_train.pop('CO2_con')\n",
    "    y_test = x_test.pop('CO2_con')\n",
    "\n",
    "    return x_train, x_test, y_train, y_test "
   ]
  },
  {
   "cell_type": "code",
   "execution_count": 5,
   "metadata": {},
   "outputs": [],
   "source": [
    "def calculate_xgb(x_train,x_test,y_train,y_test):\n",
    "    model = XGBRegressor()\n",
    "    model.fit(x_train, y_train)\n",
    "    train_prediction = model.predict(x_train)\n",
    "    test_prediction = model.predict(x_test)\n",
    "    return mean_squared_error(y_train, train_prediction), mean_squared_error(y_test, test_prediction)\n",
    "\n",
    "def calculate_linear_reg(x_train,x_test,y_train,y_test):\n",
    "\n",
    "    model = LinearRegression()\n",
    "    model.fit(x_train, y_train)\n",
    "    train_prediction = model.predict(x_train)\n",
    "    test_prediction = model.predict(x_test)\n",
    "    return mean_squared_error(y_train, train_prediction), mean_squared_error(y_test, test_prediction)"
   ]
  },
  {
   "cell_type": "code",
   "execution_count": 6,
   "metadata": {},
   "outputs": [],
   "source": [
    "df= whole_data.copy()"
   ]
  },
  {
   "cell_type": "code",
   "execution_count": 7,
   "metadata": {},
   "outputs": [],
   "source": [
    "new_data = df.drop([\"Time\"],axis=1)\n",
    "co2_data = new_data.drop([\"Ethy_con\"],axis=1)\n",
    "eth_data = new_data.drop([\"CO2_con\"],axis=1)"
   ]
  },
  {
   "cell_type": "code",
   "execution_count": 8,
   "metadata": {},
   "outputs": [],
   "source": [
    "co2_normalized = normalize(co2_data,co2_data.columns)\n",
    "x_train, x_test, y_train, y_test  = make_data(co2_normalized)"
   ]
  },
  {
   "cell_type": "code",
   "execution_count": 9,
   "metadata": {},
   "outputs": [
    {
     "data": {
      "text/plain": [
       "'orginized_time = new_data.copy()\\norginized_time[\"Time\"] = pd.to_datetime(orginized_time[\"Time\"], unit=\"ms\",origin=\"2022\")\\norginized_time[\\'Time\\'] = orginized_time.Time.dt.round(\"10U\")\\n#time_series = df[[\"Time\",\"sensor1\"]]\\n#df = df.set_index(\\'Time\\')'"
      ]
     },
     "execution_count": 9,
     "metadata": {},
     "output_type": "execute_result"
    }
   ],
   "source": [
    "\"\"\"orginized_time = new_data.copy()\n",
    "orginized_time[\"Time\"] = pd.to_datetime(orginized_time[\"Time\"], unit=\"ms\",origin=\"2022\")\n",
    "orginized_time['Time'] = orginized_time.Time.dt.round(\"10U\")\n",
    "#time_series = df[[\"Time\",\"sensor1\"]]\n",
    "#df = df.set_index('Time')\"\"\""
   ]
  },
  {
   "cell_type": "code",
   "execution_count": 10,
   "metadata": {},
   "outputs": [
    {
     "data": {
      "text/plain": [
       "'new_data[\"Time\"] = new_data[\"Time\"]*100\\n#new_data[\"Time\"] =some_data[\"Time\"].round(2)\\nnew_data[\"Time\"] = new_data[\"Time\"].astype(int)\\nnew_data'"
      ]
     },
     "execution_count": 10,
     "metadata": {},
     "output_type": "execute_result"
    }
   ],
   "source": [
    "\"\"\"adjusted = df[:100000]\n",
    "new_data = adjusted.copy()\n",
    "\n",
    "new_data[\"Time\"] = new_data[\"Time\"]*100\n",
    "#new_data[\"Time\"] =some_data[\"Time\"].round(2)\n",
    "new_data[\"Time\"] = new_data[\"Time\"].astype(int)\n",
    "new_data\"\"\""
   ]
  },
  {
   "cell_type": "code",
   "execution_count": 11,
   "metadata": {},
   "outputs": [
    {
     "data": {
      "text/plain": [
       "'orginized_time = new_data.copy()\\norginized_time[\"Time\"] = pd.to_datetime(orginized_time[\"Time\"], unit=\"ms\",origin=\"2022\")\\norginized_time[\\'Time\\'] = orginized_time.Time.dt.round(\"10U\")'"
      ]
     },
     "execution_count": 11,
     "metadata": {},
     "output_type": "execute_result"
    }
   ],
   "source": [
    "\"\"\"orginized_time = new_data.copy()\n",
    "orginized_time[\"Time\"] = pd.to_datetime(orginized_time[\"Time\"], unit=\"ms\",origin=\"2022\")\n",
    "orginized_time['Time'] = orginized_time.Time.dt.round(\"10U\")\"\"\""
   ]
  },
  {
   "cell_type": "code",
   "execution_count": 12,
   "metadata": {},
   "outputs": [
    {
     "data": {
      "text/plain": [
       "'conversion = orginized_time[\"Time\"].astype(str)\\n\\norginized_time[\"second\"] = conversion.apply(lambda x:x[20:23])\\norginized_time[\"minute\"] = conversion.apply(lambda x:x[17:19])'"
      ]
     },
     "execution_count": 12,
     "metadata": {},
     "output_type": "execute_result"
    }
   ],
   "source": [
    "\"\"\"conversion = orginized_time[\"Time\"].astype(str)\n",
    "\n",
    "orginized_time[\"second\"] = conversion.apply(lambda x:x[20:23])\n",
    "orginized_time[\"minute\"] = conversion.apply(lambda x:x[17:19])\"\"\""
   ]
  },
  {
   "cell_type": "code",
   "execution_count": 13,
   "metadata": {},
   "outputs": [
    {
     "name": "stdout",
     "output_type": "stream",
     "text": [
      "(0.0047140744261317735, 0.04391493187719463)\n"
     ]
    }
   ],
   "source": [
    "print(calculate_xgb(x_train, x_test, y_train, y_test))"
   ]
  },
  {
   "cell_type": "code",
   "execution_count": 14,
   "metadata": {},
   "outputs": [
    {
     "name": "stdout",
     "output_type": "stream",
     "text": [
      "(0.028665120969280516, 0.031387080155593466)\n"
     ]
    }
   ],
   "source": [
    "print(calculate_linear_reg(x_train, x_test, y_train, y_test))"
   ]
  },
  {
   "cell_type": "code",
   "execution_count": null,
   "metadata": {},
   "outputs": [],
   "source": []
  }
 ],
 "metadata": {
  "kernelspec": {
   "display_name": "Python 3.6.5 64-bit",
   "language": "python",
   "name": "python3"
  },
  "language_info": {
   "codemirror_mode": {
    "name": "ipython",
    "version": 3
   },
   "file_extension": ".py",
   "mimetype": "text/x-python",
   "name": "python",
   "nbconvert_exporter": "python",
   "pygments_lexer": "ipython3",
   "version": "3.6.5"
  },
  "orig_nbformat": 4,
  "vscode": {
   "interpreter": {
    "hash": "f4e9cda46bb2d9d7fe6ecdff0f8336a934348bf06cb492f2f42f60739b3403b4"
   }
  }
 },
 "nbformat": 4,
 "nbformat_minor": 2
}
