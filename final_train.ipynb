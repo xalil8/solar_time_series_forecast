{
 "cells": [
  {
   "cell_type": "code",
   "execution_count": 56,
   "metadata": {},
   "outputs": [
    {
     "data": {
      "text/html": [
       "        <script type=\"text/javascript\">\n",
       "        window.PlotlyConfig = {MathJaxConfig: 'local'};\n",
       "        if (window.MathJax && window.MathJax.Hub && window.MathJax.Hub.Config) {window.MathJax.Hub.Config({SVG: {font: \"STIX-Web\"}});}\n",
       "        if (typeof require !== 'undefined') {\n",
       "        require.undef(\"plotly\");\n",
       "        requirejs.config({\n",
       "            paths: {\n",
       "                'plotly': ['https://cdn.plot.ly/plotly-2.12.1.min']\n",
       "            }\n",
       "        });\n",
       "        require(['plotly'], function(Plotly) {\n",
       "            window._Plotly = Plotly;\n",
       "        });\n",
       "        }\n",
       "        </script>\n",
       "        "
      ]
     },
     "metadata": {},
     "output_type": "display_data"
    }
   ],
   "source": [
    "import numpy as np\n",
    "import pandas as pd \n",
    "pd.set_option(\"max_columns\",None)\n",
    "from sklearn.linear_model import LinearRegression, Ridge\n",
    "#from sklearn.preprocessing import StandardScaler, PolynomialFeatures\n",
    "#from sklearn.model_selection import train_test_split\n",
    "#from sklearn.metrics import mean_squared_error\n",
    "#import tensorflow as tf\n",
    "#from tensorflow.keras.models import Sequential\n",
    "#from tensorflow.keras.layers import Dense\n",
    "#from tensorflow.keras.activations import relu,linear\n",
    "#from tensorflow.keras.optimizers import Adam\n",
    "import matplotlib.pyplot as plt\n",
    "import seaborn as sns\n",
    "from sklearn.preprocessing import MinMaxScaler\n",
    "#from matplotlib import units\n",
    "\n",
    "\n",
    "import tensorflow as tf\n",
    "\n",
    "%matplotlib inline\n",
    "import plotly.offline as py\n",
    "py.init_notebook_mode(connected=True)\n",
    "import plotly.graph_objs as go\n",
    "import plotly.tools as tls\n",
    "from plotly.subplots import make_subplots\n",
    "import plotly.figure_factory as ff\n",
    "from datetime import datetime\n",
    "\n",
    "from sklearn.model_selection import StratifiedShuffleSplit, KFold, GridSearchCV, RandomizedSearchCV\n",
    "from sklearn.base import BaseEstimator, TransformerMixin\n",
    "from sklearn.pipeline import Pipeline\n",
    "from sklearn.metrics import mean_squared_error, mean_absolute_error,make_scorer,r2_score,mean_absolute_percentage_error\n",
    "from sklearn.inspection import plot_partial_dependence\n",
    "from statsmodels.stats.outliers_influence import variance_inflation_factor\n",
    "import statsmodels.api  as sm\n",
    "from scipy import stats\n",
    "from sklearn.model_selection import train_test_split,cross_val_score\n",
    "\n",
    "from sklearn.linear_model import Lasso, Ridge, SGDRegressor,LinearRegression,RidgeCV\n",
    "from sklearn.ensemble import RandomForestRegressor, ExtraTreesRegressor\n",
    "from sklearn.preprocessing import LabelEncoder,OneHotEncoder,StandardScaler,RobustScaler\n",
    "from sklearn.svm import SVR\n",
    "from sklearn.pipeline import Pipeline\n",
    "from xgboost import XGBRegressor\n",
    "from sklearn.neighbors import KNeighborsRegressor\n",
    "from sklearn.ensemble import GradientBoostingRegressor\n",
    "from sklearn.tree import ExtraTreeRegressor,DecisionTreeRegressor\n",
    "from sklearn.neural_network import MLPRegressor\n",
    "import xgboost as xgb\n",
    "\n",
    "import warnings\n",
    "warnings.filterwarnings('ignore')\n",
    "import pprint\n",
    "\n",
    "pd.set_option('max_columns', 200)\n",
    "\n"
   ]
  },
  {
   "cell_type": "code",
   "execution_count": 3,
   "metadata": {},
   "outputs": [],
   "source": [
    "#df = pd.ExcelFile('C:/Users/halil/Desktop/soalr_data.xlsx').parse('sheet 1')\n",
    "weather_raw = pd.read_excel('C:/Users/halil/Desktop/soalr_data.xlsx',sheet_name=\"weather\")\n",
    "guneko_raw = pd.read_excel('C:/Users/halil/Desktop/soalr_data.xlsx',sheet_name=\"1000255-GUNEKO\")"
   ]
  },
  {
   "cell_type": "markdown",
   "metadata": {},
   "source": [
    "DATA INITILAZING AND CLEANING"
   ]
  },
  {
   "cell_type": "code",
   "execution_count": 4,
   "metadata": {},
   "outputs": [],
   "source": [
    "guneko_production = guneko_raw[[\"Date\",\"Production\"]]\n",
    "guneko_gti = guneko_raw[[\"Date.1\",\"GTI\"]]\n",
    "\n",
    "\n",
    "weather_guneko = weather_raw.loc[weather_raw.name ==1000255]\n",
    "ali = pd.merge(guneko_production,weather_guneko,left_on=\"Date\",right_on=\"date\")\n",
    "dataset = ali.drop([\"name\",\"date\",\"lat\",\"lon\"],axis=1)"
   ]
  },
  {
   "cell_type": "markdown",
   "metadata": {},
   "source": [
    "ONE HOT ENCODING"
   ]
  },
  {
   "cell_type": "code",
   "execution_count": 5,
   "metadata": {},
   "outputs": [],
   "source": [
    "dataset= dataset.set_index([\"Date\"])\n",
    "year = pd.DataFrame(data=pd.get_dummies(dataset.index.year,prefix=\"year\"))\n",
    "month = pd.DataFrame(data=pd.get_dummies(dataset.index.month, prefix=\"month\"))\n",
    "#day = pd.DataFrame(data=pd.get_dummies(dataset.index.day,prefix=\"day\"))\n",
    "hour = pd.DataFrame(data=pd.get_dummies(dataset.index.hour,prefix=\"hour\"))\n",
    "#frames = [year,month,day,hour]\n",
    "frames = [year,month,hour]\n",
    "onehot_encoded = ali.join(frames)\n",
    "\n"
   ]
  },
  {
   "cell_type": "markdown",
   "metadata": {},
   "source": [
    "FEATURE ENGINEERING"
   ]
  },
  {
   "cell_type": "code",
   "execution_count": 6,
   "metadata": {},
   "outputs": [],
   "source": [
    "onehot_encoded = onehot_encoded.drop([\"Date\",\"name\",\"date\",\"lat\",\"lon\"],axis=1)"
   ]
  },
  {
   "cell_type": "markdown",
   "metadata": {},
   "source": [
    "NORMALIZATION OF FEATURES (EXCEPTIONS: PRODUCTION AND DATE TIME ENCODED FEATURES)"
   ]
  },
  {
   "cell_type": "code",
   "execution_count": 7,
   "metadata": {},
   "outputs": [],
   "source": [
    "def normalize(df,column_list):\n",
    "    for col in column_list:\n",
    "        feature_range = (-1,1)\n",
    "        min_max_scaler = MinMaxScaler(feature_range=feature_range)\n",
    "\n",
    "        df[col] = min_max_scaler.fit_transform(df[col].values.reshape(-1,1))\n",
    "\n",
    "    return df"
   ]
  },
  {
   "cell_type": "code",
   "execution_count": null,
   "metadata": {},
   "outputs": [],
   "source": [
    "normalized = normalize(onehot_encoded,onehot_encoded.columns[0:11])\n",
    "normalized"
   ]
  },
  {
   "cell_type": "code",
   "execution_count": 39,
   "metadata": {},
   "outputs": [],
   "source": [
    "target = normalized.loc[normalized.year_2021 == 1]\n",
    "target = target.drop([\"year_2020\",\"year_2022\",\"year_2021\"],axis=1)\n",
    "target = target.reset_index(drop=True)"
   ]
  },
  {
   "cell_type": "code",
   "execution_count": null,
   "metadata": {},
   "outputs": [],
   "source": [
    "aw = normalized.loc[normalized.year_2022 == 1]\n",
    "aw1 = aw.loc[aw.month_1 ==1]\n",
    "aw1"
   ]
  },
  {
   "cell_type": "code",
   "execution_count": null,
   "metadata": {},
   "outputs": [],
   "source": [
    "from keras.models import Sequential \n",
    "from tensorflow.keras import model_conf\n",
    "from keras.layers import BatchNormalization, Dense, Add \n",
    "from keras.layers import Activation, Dropout, Flatten, Dense\n",
    "def residual_block(x):\n",
    "  x_skip = x\n",
    "  x = Dense(model_conf['neuron_size'],activation='relu',kernel_regularizer=model_conf['regulizer'])(x)\n",
    "  x = BatchNormalization()(x)\n",
    "  x = Dropout(model_conf['dropout'])(x)\n",
    "\n",
    "  x = Dense(model_conf['neuron_size'],activation='relu',kernel_regularizer=model_conf['regulizer'])(x)\n",
    "  x = BatchNormalization()(x)\n",
    "  x = Dropout(model_conf['dropout'])(x)\n",
    "\n",
    "  adding = Add()([x_skip,x])\n",
    "  return Activation('relu')(adding)"
   ]
  },
  {
   "cell_type": "code",
   "execution_count": 45,
   "metadata": {},
   "outputs": [
    {
     "data": {
      "image/png": "[encoded data removed]",
      "text/plain": [
       "<Figure size 1080x720 with 2 Axes>"
      ]
     },
     "metadata": {
      "needs_background": "light"
     },
     "output_type": "display_data"
    }
   ],
   "source": [
    "plt.rcParams['figure.figsize'] = (15, 10)\n",
    "sns.heatmap(onehot_encoded.iloc[:,:11].corr(), cmap = 'copper',annot = True)\n",
    "plt.title('Heat Map for Correlations', fontsize = 20)\n",
    "plt.show()"
   ]
  },
  {
   "cell_type": "code",
   "execution_count": 10,
   "metadata": {},
   "outputs": [],
   "source": [
    "train = target[:7692]\n",
    "test = target[7692:]"
   ]
  },
  {
   "cell_type": "code",
   "execution_count": 11,
   "metadata": {},
   "outputs": [],
   "source": [
    "x_train = train.copy()\n",
    "x_test = test.copy()\n",
    "\n",
    "y_train = x_train.pop('Production')\n",
    "y_test = x_test.pop('Production')"
   ]
  },
  {
   "cell_type": "code",
   "execution_count": 11,
   "metadata": {},
   "outputs": [],
   "source": [
    "y  = normalized[\"Production\"]\n",
    "x = normalized.drop(\"Production\",axis=1)\n",
    "#train test split\n",
    "\n",
    "x_train, x_test, y_train, y_test = train_test_split(x,y,train_size=0.8,shuffle=False,random_state=1)"
   ]
  },
  {
   "cell_type": "code",
   "execution_count": 23,
   "metadata": {},
   "outputs": [
    {
     "name": "stdout",
     "output_type": "stream",
     "text": [
      "LinearRegression: -31948708741916053733376.000000 (+/- 95846126225748152811520.000000)\n",
      "XGB: 0.890477 (+/- 0.074957)\n",
      "KNN: 0.886669 (+/- 0.072553)\n",
      "DTR: 0.823922 (+/- 0.096256)\n",
      "RFRegressor: 0.904314 (+/- 0.062686)\n",
      "GBRegressor: 0.894121 (+/- 0.066000)\n",
      "MLP: 0.895516 (+/- 0.071611)\n",
      "EXT Regressor: 0.822167 (+/- 0.116703)\n",
      "SV Regressor: 0.905660 (+/- 0.058297)\n",
      "Wall time: 38.2 s\n"
     ]
    }
   ],
   "source": [
    "%%time\n",
    "clfs = []\n",
    "seed = 3\n",
    "\n",
    "clfs.append((\"LinearRegression\", Pipeline([(\"LogReg\", LinearRegression())])))\n",
    "\n",
    "clfs.append((\"XGB\", Pipeline([(\"XGB\", XGBRegressor())]))) \n",
    "\n",
    "clfs.append((\"KNN\", Pipeline([(\"KNN\", KNeighborsRegressor())]))) \n",
    "\n",
    "clfs.append((\"DTR\", Pipeline([(\"DecisionTrees\", DecisionTreeRegressor())]))) \n",
    "\n",
    "clfs.append((\"RFRegressor\", Pipeline([(\"RandomForest\", RandomForestRegressor())]))) \n",
    "\n",
    "clfs.append((\"GBRegressor\", Pipeline([(\"GradientBoosting\", GradientBoostingRegressor())]))) \n",
    "\n",
    "clfs.append((\"MLP\", Pipeline([(\"MLP Regressor\", MLPRegressor())])))\n",
    "\n",
    "clfs.append((\"EXT Regressor\",Pipeline([(\"ExtraTrees\", ExtraTreeRegressor())])))\n",
    "\n",
    "clfs.append((\"SV Regressor\", Pipeline([(\"ExtraTrees\", SVR())])))\n",
    "\n",
    "scoring = 'r2'\n",
    "n_folds = 10\n",
    "msgs = []\n",
    "results, names  = [], [] \n",
    "\n",
    "for name, model  in clfs:\n",
    "    kfold = KFold(n_splits=n_folds, random_state=None)\n",
    "    cv_results = cross_val_score(model, x_train, y_train, cv=kfold, scoring=scoring, n_jobs=-1)    \n",
    "    names.append(name)\n",
    "    results.append(cv_results)    \n",
    "    msg = \"%s: %f (+/- %f)\" % (name, cv_results.mean(), cv_results.std())\n",
    "    msgs.append(msg)\n",
    "    print(msg)"
   ]
  },
  {
   "cell_type": "code",
   "execution_count": 41,
   "metadata": {},
   "outputs": [],
   "source": [
    "from sklearn.metrics import mean_squared_error, mean_absolute_error,make_scorer,r2_score,mean_absolute_percentage_error,explained_variance_score\n",
    "\n",
    "def metrics(y_train1,y_train_pred1,y_test1,y_test_pred1):\n",
    "    print(\"for train data, mean squared error is\",mean_squared_error(y_train1, y_train_pred1))\n",
    "    print(\"for train data, mean absolute error is:\",mean_absolute_error(y_train1, y_train_pred1))\n",
    "    print(\"for train data, mean absolute percentage error is\",mean_absolute_percentage_error(y_train1, y_train_pred1),\"\\n\")\n",
    "\n",
    "    print(\"for test data, mean squared error is\",mean_squared_error(y_test1, y_test_pred1))\n",
    "    print(\"for test data, mean absolute error is:\",mean_absolute_error(y_test1, y_test_pred1))\n",
    "    print(\"for test data, mean absolute percentage error is\",mean_absolute_percentage_error(y_test1, y_test_pred1))\n"
   ]
  },
  {
   "cell_type": "code",
   "execution_count": 62,
   "metadata": {},
   "outputs": [],
   "source": [
    "def build_and_compile_model():\n",
    "  model = tf.keras.Sequential([\n",
    "      tf.keras.layers.Dense(64, activation='relu'),\n",
    "      tf.keras.layers.Dense(64, activation='relu'),\n",
    "      tf.keras.layers.Dense(1)\n",
    "  ])\n",
    "\n",
    "  model.compile(loss='mean_absolute_error',\n",
    "                optimizer=tf.keras.optimizers.Adam(0.001),\n",
    "                metrics=[tf.keras.metrics.MeanAbsoluteError()])\n",
    "\n",
    "  return model"
   ]
  },
  {
   "cell_type": "code",
   "execution_count": 63,
   "metadata": {},
   "outputs": [
    {
     "name": "stdout",
     "output_type": "stream",
     "text": [
      "Epoch 1/50\n",
      "121/121 [==============================] - 0s 1ms/step - loss: 0.1777 - mean_absolute_error: 0.1777\n",
      "Epoch 2/50\n",
      "121/121 [==============================] - 0s 1ms/step - loss: 0.0771 - mean_absolute_error: 0.0771\n",
      "Epoch 3/50\n",
      "121/121 [==============================] - 0s 1ms/step - loss: 0.0694 - mean_absolute_error: 0.0694\n",
      "Epoch 4/50\n",
      "121/121 [==============================] - 0s 1ms/step - loss: 0.0660 - mean_absolute_error: 0.0660\n",
      "Epoch 5/50\n",
      "121/121 [==============================] - 0s 1ms/step - loss: 0.0645 - mean_absolute_error: 0.0645\n",
      "Epoch 6/50\n",
      "121/121 [==============================] - 0s 1ms/step - loss: 0.0625 - mean_absolute_error: 0.0625\n",
      "Epoch 7/50\n",
      "121/121 [==============================] - 0s 1ms/step - loss: 0.0608 - mean_absolute_error: 0.0608\n",
      "Epoch 8/50\n",
      "121/121 [==============================] - 0s 1ms/step - loss: 0.0608 - mean_absolute_error: 0.0608\n",
      "Epoch 9/50\n",
      "121/121 [==============================] - 0s 1ms/step - loss: 0.0598 - mean_absolute_error: 0.0598\n",
      "Epoch 10/50\n",
      "121/121 [==============================] - 0s 1ms/step - loss: 0.0590 - mean_absolute_error: 0.0590A: 0s - loss: 0.0599 - mean_absolute_error: 0.05\n",
      "Epoch 11/50\n",
      "121/121 [==============================] - 0s 1ms/step - loss: 0.0577 - mean_absolute_error: 0.0577\n",
      "Epoch 12/50\n",
      "121/121 [==============================] - 0s 1ms/step - loss: 0.0577 - mean_absolute_error: 0.0577A: 0s - loss: 0.0596 - mean_absolute_error: 0.05\n",
      "Epoch 13/50\n",
      "121/121 [==============================] - 0s 1ms/step - loss: 0.0570 - mean_absolute_error: 0.0570\n",
      "Epoch 14/50\n",
      "121/121 [==============================] - 0s 1ms/step - loss: 0.0570 - mean_absolute_error: 0.0570\n",
      "Epoch 15/50\n",
      "121/121 [==============================] - ETA: 0s - loss: 0.0563 - mean_absolute_error: 0.056 - 0s 1ms/step - loss: 0.0559 - mean_absolute_error: 0.0559\n",
      "Epoch 16/50\n",
      "121/121 [==============================] - 0s 1ms/step - loss: 0.0568 - mean_absolute_error: 0.0568\n",
      "Epoch 17/50\n",
      "121/121 [==============================] - 0s 1ms/step - loss: 0.0556 - mean_absolute_error: 0.0556\n",
      "Epoch 18/50\n",
      "121/121 [==============================] - 0s 1ms/step - loss: 0.0561 - mean_absolute_error: 0.0561\n",
      "Epoch 19/50\n",
      "121/121 [==============================] - 0s 1ms/step - loss: 0.0554 - mean_absolute_error: 0.0554\n",
      "Epoch 20/50\n",
      "121/121 [==============================] - 0s 1ms/step - loss: 0.0553 - mean_absolute_error: 0.0553\n",
      "Epoch 21/50\n",
      "121/121 [==============================] - 0s 1ms/step - loss: 0.0560 - mean_absolute_error: 0.0560\n",
      "Epoch 22/50\n",
      "121/121 [==============================] - 0s 1ms/step - loss: 0.0546 - mean_absolute_error: 0.0546\n",
      "Epoch 23/50\n",
      "121/121 [==============================] - 0s 1ms/step - loss: 0.0551 - mean_absolute_error: 0.0551\n",
      "Epoch 24/50\n",
      "121/121 [==============================] - 0s 1ms/step - loss: 0.0539 - mean_absolute_error: 0.0539\n",
      "Epoch 25/50\n",
      "121/121 [==============================] - 0s 1ms/step - loss: 0.0541 - mean_absolute_error: 0.0541\n",
      "Epoch 26/50\n",
      "121/121 [==============================] - 0s 1ms/step - loss: 0.0537 - mean_absolute_error: 0.0537\n",
      "Epoch 27/50\n",
      "121/121 [==============================] - 0s 1ms/step - loss: 0.0538 - mean_absolute_error: 0.0538\n",
      "Epoch 28/50\n",
      "121/121 [==============================] - 0s 1ms/step - loss: 0.0535 - mean_absolute_error: 0.0535\n",
      "Epoch 29/50\n",
      "121/121 [==============================] - 0s 1ms/step - loss: 0.0538 - mean_absolute_error: 0.0538\n",
      "Epoch 30/50\n",
      "121/121 [==============================] - 0s 1ms/step - loss: 0.0534 - mean_absolute_error: 0.0534\n",
      "Epoch 31/50\n",
      "121/121 [==============================] - 0s 1ms/step - loss: 0.0524 - mean_absolute_error: 0.0524\n",
      "Epoch 32/50\n",
      "121/121 [==============================] - 0s 1ms/step - loss: 0.0534 - mean_absolute_error: 0.0534\n",
      "Epoch 33/50\n",
      "121/121 [==============================] - 0s 1ms/step - loss: 0.0519 - mean_absolute_error: 0.0519\n",
      "Epoch 34/50\n",
      "121/121 [==============================] - 0s 1ms/step - loss: 0.0521 - mean_absolute_error: 0.0521\n",
      "Epoch 35/50\n",
      "121/121 [==============================] - 0s 1ms/step - loss: 0.0517 - mean_absolute_error: 0.0517\n",
      "Epoch 36/50\n",
      "121/121 [==============================] - 0s 1ms/step - loss: 0.0517 - mean_absolute_error: 0.0517\n",
      "Epoch 37/50\n",
      "121/121 [==============================] - 0s 1ms/step - loss: 0.0521 - mean_absolute_error: 0.0521\n",
      "Epoch 38/50\n",
      "121/121 [==============================] - 0s 1ms/step - loss: 0.0517 - mean_absolute_error: 0.0517\n",
      "Epoch 39/50\n",
      "121/121 [==============================] - 0s 1ms/step - loss: 0.0525 - mean_absolute_error: 0.0525\n",
      "Epoch 40/50\n",
      "121/121 [==============================] - 0s 1ms/step - loss: 0.0515 - mean_absolute_error: 0.0515\n",
      "Epoch 41/50\n",
      "121/121 [==============================] - 0s 1ms/step - loss: 0.0510 - mean_absolute_error: 0.0510\n",
      "Epoch 42/50\n",
      "121/121 [==============================] - 0s 1ms/step - loss: 0.0504 - mean_absolute_error: 0.0504\n",
      "Epoch 43/50\n",
      "121/121 [==============================] - 0s 1ms/step - loss: 0.0505 - mean_absolute_error: 0.0505\n",
      "Epoch 44/50\n",
      "121/121 [==============================] - 0s 1ms/step - loss: 0.0502 - mean_absolute_error: 0.0502\n",
      "Epoch 45/50\n",
      "121/121 [==============================] - 0s 1ms/step - loss: 0.0506 - mean_absolute_error: 0.0506\n",
      "Epoch 46/50\n",
      "121/121 [==============================] - 0s 1ms/step - loss: 0.0509 - mean_absolute_error: 0.0509\n",
      "Epoch 47/50\n",
      "121/121 [==============================] - 0s 1ms/step - loss: 0.0497 - mean_absolute_error: 0.0497\n",
      "Epoch 48/50\n",
      "121/121 [==============================] - 0s 1ms/step - loss: 0.0504 - mean_absolute_error: 0.0504\n",
      "Epoch 49/50\n",
      "121/121 [==============================] - 0s 1ms/step - loss: 0.0504 - mean_absolute_error: 0.0504A: 0s - loss: 0.0534 - mean_absolute_error: 0.05\n",
      "Epoch 50/50\n",
      "121/121 [==============================] - 0s 1ms/step - loss: 0.0493 - mean_absolute_error: 0.0493\n"
     ]
    },
    {
     "data": {
      "text/plain": [
       "<keras.callbacks.History at 0x1c494465860>"
      ]
     },
     "execution_count": 63,
     "metadata": {},
     "output_type": "execute_result"
    }
   ],
   "source": [
    "ali = build_and_compile_model()\n",
    "ali.fit(x_train,y_train,batch_size=64,epochs=50)"
   ]
  },
  {
   "cell_type": "code",
   "execution_count": 57,
   "metadata": {},
   "outputs": [
    {
     "name": "stdout",
     "output_type": "stream",
     "text": [
      "Epoch 1/50\n",
      "121/121 [==============================] - 0s 1ms/step - loss: 0.1155 - mean_absolute_error: 0.2158\n",
      "Epoch 2/50\n",
      "121/121 [==============================] - 0s 2ms/step - loss: 0.0294 - mean_absolute_error: 0.0950\n",
      "Epoch 3/50\n",
      "121/121 [==============================] - 0s 1ms/step - loss: 0.0270 - mean_absolute_error: 0.0849\n",
      "Epoch 4/50\n",
      "121/121 [==============================] - 0s 1ms/step - loss: 0.0263 - mean_absolute_error: 0.0836\n",
      "Epoch 5/50\n",
      "121/121 [==============================] - 0s 1ms/step - loss: 0.0253 - mean_absolute_error: 0.0784\n",
      "Epoch 6/50\n",
      "121/121 [==============================] - 0s 1ms/step - loss: 0.0248 - mean_absolute_error: 0.0768\n",
      "Epoch 7/50\n",
      "121/121 [==============================] - 0s 1ms/step - loss: 0.0243 - mean_absolute_error: 0.0752\n",
      "Epoch 8/50\n",
      "121/121 [==============================] - 0s 1ms/step - loss: 0.0239 - mean_absolute_error: 0.0729\n",
      "Epoch 9/50\n",
      "121/121 [==============================] - 0s 1ms/step - loss: 0.0238 - mean_absolute_error: 0.0741\n",
      "Epoch 10/50\n",
      "121/121 [==============================] - 0s 1ms/step - loss: 0.0234 - mean_absolute_error: 0.0727\n",
      "Epoch 11/50\n",
      "121/121 [==============================] - 0s 2ms/step - loss: 0.0233 - mean_absolute_error: 0.0734\n",
      "Epoch 12/50\n",
      "121/121 [==============================] - 0s 1ms/step - loss: 0.0230 - mean_absolute_error: 0.0719\n",
      "Epoch 13/50\n",
      "121/121 [==============================] - 0s 1ms/step - loss: 0.0228 - mean_absolute_error: 0.0718\n",
      "Epoch 14/50\n",
      "121/121 [==============================] - 0s 2ms/step - loss: 0.0229 - mean_absolute_error: 0.0745\n",
      "Epoch 15/50\n",
      "121/121 [==============================] - 0s 1ms/step - loss: 0.0225 - mean_absolute_error: 0.0709\n",
      "Epoch 16/50\n",
      "121/121 [==============================] - 0s 1ms/step - loss: 0.0222 - mean_absolute_error: 0.0713\n",
      "Epoch 17/50\n",
      "121/121 [==============================] - 0s 1ms/step - loss: 0.0223 - mean_absolute_error: 0.0716\n",
      "Epoch 18/50\n",
      "121/121 [==============================] - 0s 1ms/step - loss: 0.0223 - mean_absolute_error: 0.0735\n",
      "Epoch 19/50\n",
      "121/121 [==============================] - 0s 1ms/step - loss: 0.0219 - mean_absolute_error: 0.0718\n",
      "Epoch 20/50\n",
      "121/121 [==============================] - 0s 1ms/step - loss: 0.0214 - mean_absolute_error: 0.0697\n",
      "Epoch 21/50\n",
      "121/121 [==============================] - 0s 1ms/step - loss: 0.0213 - mean_absolute_error: 0.0691\n",
      "Epoch 22/50\n",
      "121/121 [==============================] - 0s 1ms/step - loss: 0.0212 - mean_absolute_error: 0.0701\n",
      "Epoch 23/50\n",
      "121/121 [==============================] - 0s 1ms/step - loss: 0.0212 - mean_absolute_error: 0.0701\n",
      "Epoch 24/50\n",
      "121/121 [==============================] - 0s 1ms/step - loss: 0.0211 - mean_absolute_error: 0.0703\n",
      "Epoch 25/50\n",
      "121/121 [==============================] - 0s 1ms/step - loss: 0.0207 - mean_absolute_error: 0.0684\n",
      "Epoch 26/50\n",
      "121/121 [==============================] - 0s 1ms/step - loss: 0.0210 - mean_absolute_error: 0.0706\n",
      "Epoch 27/50\n",
      "121/121 [==============================] - 0s 1ms/step - loss: 0.0208 - mean_absolute_error: 0.0692\n",
      "Epoch 28/50\n",
      "121/121 [==============================] - 0s 1ms/step - loss: 0.0207 - mean_absolute_error: 0.0689\n",
      "Epoch 29/50\n",
      "121/121 [==============================] - 0s 2ms/step - loss: 0.0206 - mean_absolute_error: 0.0679\n",
      "Epoch 30/50\n",
      "121/121 [==============================] - 0s 1ms/step - loss: 0.0204 - mean_absolute_error: 0.0690\n",
      "Epoch 31/50\n",
      "121/121 [==============================] - 0s 2ms/step - loss: 0.0201 - mean_absolute_error: 0.0676\n",
      "Epoch 32/50\n",
      "121/121 [==============================] - 0s 1ms/step - loss: 0.0203 - mean_absolute_error: 0.0685\n",
      "Epoch 33/50\n",
      "121/121 [==============================] - 0s 1ms/step - loss: 0.0202 - mean_absolute_error: 0.0695\n",
      "Epoch 34/50\n",
      "121/121 [==============================] - 0s 1ms/step - loss: 0.0204 - mean_absolute_error: 0.0698\n",
      "Epoch 35/50\n",
      "121/121 [==============================] - 0s 1ms/step - loss: 0.0203 - mean_absolute_error: 0.0714\n",
      "Epoch 36/50\n",
      "121/121 [==============================] - 0s 1ms/step - loss: 0.0202 - mean_absolute_error: 0.0705\n",
      "Epoch 37/50\n",
      "121/121 [==============================] - 0s 1ms/step - loss: 0.0197 - mean_absolute_error: 0.0673\n",
      "Epoch 38/50\n",
      "121/121 [==============================] - 0s 1ms/step - loss: 0.0197 - mean_absolute_error: 0.0673\n",
      "Epoch 39/50\n",
      "121/121 [==============================] - 0s 1ms/step - loss: 0.0194 - mean_absolute_error: 0.0663\n",
      "Epoch 40/50\n",
      "121/121 [==============================] - 0s 1ms/step - loss: 0.0197 - mean_absolute_error: 0.0680\n",
      "Epoch 41/50\n",
      "121/121 [==============================] - 0s 1ms/step - loss: 0.0196 - mean_absolute_error: 0.0689\n",
      "Epoch 42/50\n",
      "121/121 [==============================] - 0s 1ms/step - loss: 0.0191 - mean_absolute_error: 0.0665\n",
      "Epoch 43/50\n",
      "121/121 [==============================] - 0s 1ms/step - loss: 0.0192 - mean_absolute_error: 0.0682\n",
      "Epoch 44/50\n",
      "121/121 [==============================] - 0s 1ms/step - loss: 0.0191 - mean_absolute_error: 0.0669\n",
      "Epoch 45/50\n",
      "121/121 [==============================] - 0s 2ms/step - loss: 0.0190 - mean_absolute_error: 0.0664\n",
      "Epoch 46/50\n",
      "121/121 [==============================] - 0s 1ms/step - loss: 0.0193 - mean_absolute_error: 0.0691\n",
      "Epoch 47/50\n",
      "121/121 [==============================] - 0s 1ms/step - loss: 0.0188 - mean_absolute_error: 0.0660\n",
      "Epoch 48/50\n",
      "121/121 [==============================] - 0s 1ms/step - loss: 0.0190 - mean_absolute_error: 0.0670\n",
      "Epoch 49/50\n",
      "121/121 [==============================] - 0s 1ms/step - loss: 0.0187 - mean_absolute_error: 0.0662\n",
      "Epoch 50/50\n",
      "121/121 [==============================] - 0s 1ms/step - loss: 0.0185 - mean_absolute_error: 0.0653\n"
     ]
    },
    {
     "data": {
      "text/plain": [
       "<keras.callbacks.History at 0x1c4939e1390>"
      ]
     },
     "execution_count": 57,
     "metadata": {},
     "output_type": "execute_result"
    }
   ],
   "source": [
    "\n",
    "my_model = tf.keras.Sequential([\n",
    "    tf.keras.layers.Dense(units=16,activation=\"relu\"),\n",
    "    tf.keras.layers.Dense(units=1,activation=\"linear\")\n",
    "])\n",
    "\n",
    "my_model.compile(\n",
    "    optimizer=tf.keras.optimizers.Adam(learning_rate=0.001),\n",
    "    metrics=[tf.keras.metrics.MeanAbsoluteError()],\n",
    "    loss='mse')\n",
    "\n",
    "my_model.fit(x_train,y_train,batch_size=64,epochs=50)"
   ]
  },
  {
   "cell_type": "code",
   "execution_count": 45,
   "metadata": {},
   "outputs": [
    {
     "name": "stdout",
     "output_type": "stream",
     "text": [
      "for train data, mean squared error is 0.032896146769059276\n",
      "for train data, mean absolute error is: 0.10639368345018735\n",
      "for train data, mean absolute percentage error is 0.5263428246964387 \n",
      "\n",
      "for test data, mean squared error is 5.6040153175515235e+22\n",
      "for test data, mean absolute error is: 236728015189.40512\n",
      "for test data, mean absolute percentage error is 838758352296.179\n"
     ]
    }
   ],
   "source": [
    "reg = LinearRegression()\n",
    "reg.fit(x_train, y_train)\n",
    "\n",
    "reg_train_pred = reg.predict(x_train)\n",
    "reg_test_pred = reg.predict(x_test)\n",
    "\n",
    "metrics(y_train,reg_train_pred,y_test,reg_test_pred)\n"
   ]
  },
  {
   "cell_type": "code",
   "execution_count": 42,
   "metadata": {},
   "outputs": [
    {
     "name": "stdout",
     "output_type": "stream",
     "text": [
      "for train data, mean squared error is 0.001585586188426985\n",
      "for train data, mean absolute error is: 0.019847477151901972\n",
      "for train data, mean absolute percentage error is 0.1543493285237681 \n",
      "\n",
      "for test data, mean squared error is 0.03807303537587897\n",
      "for test data, mean absolute error is: 0.08720837932325866\n",
      "for test data, mean absolute percentage error is 0.585500759511294\n"
     ]
    }
   ],
   "source": [
    "xgb = XGBRegressor()\n",
    "xgb.fit(x_train, y_train)\n",
    "\n",
    "xgb_train_pred = xgb.predict(x_train)\n",
    "xgb_test_pred = xgb.predict(x_test)\n",
    "\n",
    "metrics(y_train,xgb_train_pred,y_test,xgb_test_pred)\n",
    "\n"
   ]
  },
  {
   "cell_type": "code",
   "execution_count": 43,
   "metadata": {},
   "outputs": [
    {
     "name": "stdout",
     "output_type": "stream",
     "text": [
      "for train data, mean squared error is 0.02026280612948404\n",
      "for train data, mean absolute error is: 0.055029027987946344\n",
      "for train data, mean absolute percentage error is 0.40131186599042795 \n",
      "\n",
      "for test data, mean squared error is 0.03330210121583113\n",
      "for test data, mean absolute error is: 0.08678253012958088\n",
      "for test data, mean absolute percentage error is 0.5076838732134478\n"
     ]
    }
   ],
   "source": [
    "\n",
    "KN = KNeighborsRegressor()\n",
    "KN.fit(x_train, y_train)\n",
    "\n",
    "KN_train_pred = KN.predict(x_train)\n",
    "KN_test_pred = KN.predict(x_test)\n",
    "\n",
    "metrics(y_train,KN_train_pred,y_test,KN_test_pred)\n"
   ]
  },
  {
   "cell_type": "code",
   "execution_count": 44,
   "metadata": {},
   "outputs": [
    {
     "name": "stdout",
     "output_type": "stream",
     "text": [
      "for train data, mean squared error is 1.922925373491156e-35\n",
      "for train data, mean absolute error is: 1.7320171991032084e-19\n",
      "for train data, mean absolute percentage error is 1.7577437878881462e-19 \n",
      "\n",
      "for test data, mean squared error is 0.060449590445979154\n",
      "for test data, mean absolute error is: 0.10141005202733597\n",
      "for test data, mean absolute percentage error is 0.8049861997650862\n"
     ]
    }
   ],
   "source": [
    "DTree = DecisionTreeRegressor()\n",
    "DTree.fit(x_train, y_train)\n",
    "\n",
    "DTree_train_pred = DTree.predict(x_train)\n",
    "DTree_test_pred = DTree.predict(x_test)\n",
    "\n",
    "metrics(y_train,DTree_train_pred,y_test,DTree_test_pred)\n"
   ]
  },
  {
   "cell_type": "code",
   "execution_count": 46,
   "metadata": {},
   "outputs": [
    {
     "name": "stdout",
     "output_type": "stream",
     "text": [
      "for train data, mean squared error is 0.003327371994828791\n",
      "for train data, mean absolute error is: 0.022365633964697932\n",
      "for train data, mean absolute percentage error is 0.1439649184065176 \n",
      "\n",
      "for test data, mean squared error is 0.04169489152464611\n",
      "for test data, mean absolute error is: 0.0883167117735019\n",
      "for test data, mean absolute percentage error is 0.7048346614234545\n"
     ]
    }
   ],
   "source": [
    "r_forest = RandomForestRegressor()\n",
    "r_forest.fit(x_train, y_train)\n",
    "\n",
    "r_forest_train_pred = r_forest.predict(x_train)\n",
    "r_forest_test_pred = r_forest.predict(x_test)\n",
    "\n",
    "metrics(y_train,r_forest_train_pred,y_test,r_forest_test_pred)\n"
   ]
  },
  {
   "cell_type": "code",
   "execution_count": null,
   "metadata": {},
   "outputs": [],
   "source": []
  },
  {
   "cell_type": "markdown",
   "metadata": {},
   "source": [
    "####################################################################################"
   ]
  },
  {
   "cell_type": "markdown",
   "metadata": {},
   "source": []
  }
 ],
 "metadata": {
  "kernelspec": {
   "display_name": "Python 3.6.5 64-bit",
   "language": "python",
   "name": "python3"
  },
  "language_info": {
   "codemirror_mode": {
    "name": "ipython",
    "version": 3
   },
   "file_extension": ".py",
   "mimetype": "text/x-python",
   "name": "python",
   "nbconvert_exporter": "python",
   "pygments_lexer": "ipython3",
   "version": "3.6.5"
  },
  "orig_nbformat": 4,
  "vscode": {
   "interpreter": {
    "hash": "f4e9cda46bb2d9d7fe6ecdff0f8336a934348bf06cb492f2f42f60739b3403b4"
   }
  }
 },
 "nbformat": 4,
 "nbformat_minor": 2
}
